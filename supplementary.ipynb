{
 "cells": [
  {
   "cell_type": "markdown",
   "id": "eefbee0a-cf0c-4dec-9b36-8d3fe5aaf87d",
   "metadata": {},
   "source": [
    "# Import a network in PyG.\n",
    "\n",
    "ref: [1] https://pytorch-geometric.readthedocs.io/en/latest/get_started/introduction.html"
   ]
  },
  {
   "cell_type": "code",
   "execution_count": null,
   "id": "803f9cd0-72d0-4a87-b2ed-3ec363d9a364",
   "metadata": {},
   "outputs": [],
   "source": [
    "import torch\n",
    "from torch_geometric.data import Data"
   ]
  },
  {
   "cell_type": "markdown",
   "id": "0029e799-fa88-4f83-8e24-aca65ced4dc9",
   "metadata": {},
   "source": [
    "Define the edge index where each column is a directed edge `(u, v)`. Define the feature matrix `x` where each row is the features of a node."
   ]
  },
  {
   "cell_type": "code",
   "execution_count": null,
   "id": "0e735897-0122-49d0-ba17-fc547cbfb018",
   "metadata": {},
   "outputs": [],
   "source": [
    "edge_index = torch.tensor([[0, 1, 1, 2],\n",
    "                           [1, 0, 2, 1]], dtype=torch.long)\n",
    "x = torch.tensor([[-1], [0], [1]], dtype=torch.float)"
   ]
  },
  {
   "cell_type": "markdown",
   "id": "08472b9c-337d-451e-a9e7-35948f82a7b3",
   "metadata": {},
   "source": [
    "Note for undirected graphs we need to define edges in both directions."
   ]
  },
  {
   "cell_type": "code",
   "execution_count": 2,
   "id": "3d7b14cc-5c64-41fb-807c-3ec7195300e0",
   "metadata": {},
   "outputs": [
    {
     "data": {
      "text/plain": [
       "Data(x=[3, 1], edge_index=[2, 4])"
      ]
     },
     "execution_count": 2,
     "metadata": {},
     "output_type": "execute_result"
    }
   ],
   "source": [
    "data = Data(x=x, edge_index=edge_index)\n",
    "data"
   ]
  },
  {
   "cell_type": "code",
   "execution_count": 3,
   "id": "cb58be4c-7572-416c-a523-2a9f2b88e2a2",
   "metadata": {},
   "outputs": [
    {
     "data": {
      "text/plain": [
       "True"
      ]
     },
     "execution_count": 3,
     "metadata": {},
     "output_type": "execute_result"
    }
   ],
   "source": [
    "data.validate(raise_on_error=True)"
   ]
  },
  {
   "cell_type": "markdown",
   "id": "64e7f81c-3ded-4d35-9ba6-cbb8f79a66d4",
   "metadata": {},
   "source": [
    "## Common mistakes"
   ]
  },
  {
   "cell_type": "markdown",
   "id": "8b554a8b-c94b-4318-8e61-88059b10be1f",
   "metadata": {},
   "source": [
    "Wrongly put each row in `edge_index` as an edge."
   ]
  },
  {
   "cell_type": "code",
   "execution_count": 4,
   "id": "27d5d632-8363-4273-97c9-fc4c010ec4d6",
   "metadata": {},
   "outputs": [],
   "source": [
    "edge_index_m1 = torch.tensor([[0, 1],\n",
    "                              [1, 0],\n",
    "                              [1, 2],\n",
    "                              [2, 1]], dtype=torch.long)"
   ]
  },
  {
   "cell_type": "code",
   "execution_count": 5,
   "id": "648c8b79-64ac-4198-8888-9a20830463b4",
   "metadata": {},
   "outputs": [
    {
     "data": {
      "text/plain": [
       "Data(x=[3, 1], edge_index=[4, 2])"
      ]
     },
     "execution_count": 5,
     "metadata": {},
     "output_type": "execute_result"
    }
   ],
   "source": [
    "data = Data(x=x, edge_index=edge_index_m1)\n",
    "data"
   ]
  },
  {
   "cell_type": "code",
   "execution_count": 6,
   "id": "f3adf8bf-286b-4f70-8931-4e67c275d61d",
   "metadata": {},
   "outputs": [
    {
     "name": "stdout",
     "output_type": "stream",
     "text": [
      "ValueError: 'edge_index' needs to be of shape [2, num_edges] in 'Data' (found torch.Size([4, 2]))\n"
     ]
    }
   ],
   "source": [
    "try:\n",
    "    data.validate(raise_on_error=True)\n",
    "except ValueError as err:\n",
    "    print(f'ValueError: {err}')"
   ]
  },
  {
   "cell_type": "markdown",
   "id": "9bd530d9-8ade-4f35-b9c2-a0faadd98c43",
   "metadata": {},
   "source": [
    "To fix it, transpose `edge_index_m1` and call contiguous()."
   ]
  },
  {
   "cell_type": "code",
   "execution_count": 7,
   "id": "249f52da-5343-4f21-aea7-b278a0b5ac91",
   "metadata": {},
   "outputs": [
    {
     "data": {
      "text/plain": [
       "tensor([[0, 1, 1, 2],\n",
       "        [1, 0, 2, 1]])"
      ]
     },
     "execution_count": 7,
     "metadata": {},
     "output_type": "execute_result"
    }
   ],
   "source": [
    "edge_index_m1.T.contiguous()"
   ]
  },
  {
   "cell_type": "code",
   "execution_count": 10,
   "id": "e3b879e7-25c7-43a2-aa6d-d299d6fd89a0",
   "metadata": {},
   "outputs": [
    {
     "data": {
      "text/plain": [
       "Data(x=[3, 1], edge_index=[2, 4])"
      ]
     },
     "execution_count": 10,
     "metadata": {},
     "output_type": "execute_result"
    }
   ],
   "source": [
    "data = Data(x=x, edge_index=edge_index_m1.T.contiguous())\n",
    "data"
   ]
  },
  {
   "cell_type": "code",
   "execution_count": 11,
   "id": "00a9b9a8-e8c1-432f-872b-433787e1cb60",
   "metadata": {},
   "outputs": [
    {
     "data": {
      "text/plain": [
       "True"
      ]
     },
     "execution_count": 11,
     "metadata": {},
     "output_type": "execute_result"
    }
   ],
   "source": [
    "data.validate(raise_on_error=True)"
   ]
  }
 ],
 "metadata": {
  "kernelspec": {
   "display_name": "Python 3 (ipykernel)",
   "language": "python",
   "name": "python3"
  },
  "language_info": {
   "codemirror_mode": {
    "name": "ipython",
    "version": 3
   },
   "file_extension": ".py",
   "mimetype": "text/x-python",
   "name": "python",
   "nbconvert_exporter": "python",
   "pygments_lexer": "ipython3",
   "version": "3.10.12"
  }
 },
 "nbformat": 4,
 "nbformat_minor": 5
}
