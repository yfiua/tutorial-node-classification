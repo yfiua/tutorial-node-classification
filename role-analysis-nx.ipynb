{
 "cells": [
  {
   "cell_type": "code",
   "execution_count": 1,
   "id": "43e73d89-b3b4-4996-bccc-87b33e09c384",
   "metadata": {},
   "outputs": [],
   "source": [
    "import os\n",
    "import networkx as nx\n",
    "import numpy as np\n",
    "import pandas as pd\n",
    "\n",
    "from sklearn.metrics import *\n",
    "from sklearn.model_selection import train_test_split\n",
    "from networkx.algorithms import node_classification"
   ]
  },
  {
   "cell_type": "markdown",
   "id": "770fd029-e33f-49db-b69c-ec74b8167e98",
   "metadata": {},
   "source": [
    "Dataset: wiki-talk datasets"
   ]
  },
  {
   "cell_type": "code",
   "execution_count": 2,
   "id": "997693f2-ae95-40b0-ac64-194074ff159a",
   "metadata": {},
   "outputs": [],
   "source": [
    "# params\n",
    "data_dir = 'data/wiki-talk/'\n",
    "train_size = 0.5\n",
    "lang = 'sk'    # specify which language of Wikipedia "
   ]
  },
  {
   "cell_type": "markdown",
   "id": "928ef10e-8268-4abc-ace1-1ff24d1bf683",
   "metadata": {},
   "source": [
    "### Load edge info"
   ]
  },
  {
   "cell_type": "code",
   "execution_count": 3,
   "id": "4c9cb81b-8b7f-427d-9d2a-d1f069d4de13",
   "metadata": {},
   "outputs": [
    {
     "data": {
      "text/html": [
       "<div>\n",
       "<style scoped>\n",
       "    .dataframe tbody tr th:only-of-type {\n",
       "        vertical-align: middle;\n",
       "    }\n",
       "\n",
       "    .dataframe tbody tr th {\n",
       "        vertical-align: top;\n",
       "    }\n",
       "\n",
       "    .dataframe thead th {\n",
       "        text-align: right;\n",
       "    }\n",
       "</style>\n",
       "<table border=\"1\" class=\"dataframe\">\n",
       "  <thead>\n",
       "    <tr style=\"text-align: right;\">\n",
       "      <th></th>\n",
       "      <th>target</th>\n",
       "      <th>source</th>\n",
       "      <th>timestamp</th>\n",
       "    </tr>\n",
       "  </thead>\n",
       "  <tbody>\n",
       "    <tr>\n",
       "      <th>0</th>\n",
       "      <td>8</td>\n",
       "      <td>8</td>\n",
       "      <td>2003-12-03T09:04:10Z</td>\n",
       "    </tr>\n",
       "    <tr>\n",
       "      <th>1</th>\n",
       "      <td>14</td>\n",
       "      <td>14</td>\n",
       "      <td>2004-02-23T09:10:57Z</td>\n",
       "    </tr>\n",
       "    <tr>\n",
       "      <th>2</th>\n",
       "      <td>16</td>\n",
       "      <td>14</td>\n",
       "      <td>2004-02-23T09:28:02Z</td>\n",
       "    </tr>\n",
       "    <tr>\n",
       "      <th>3</th>\n",
       "      <td>16</td>\n",
       "      <td>14</td>\n",
       "      <td>2004-02-25T20:41:16Z</td>\n",
       "    </tr>\n",
       "    <tr>\n",
       "      <th>4</th>\n",
       "      <td>28</td>\n",
       "      <td>14</td>\n",
       "      <td>2004-04-05T16:58:09Z</td>\n",
       "    </tr>\n",
       "    <tr>\n",
       "      <th>...</th>\n",
       "      <td>...</td>\n",
       "      <td>...</td>\n",
       "      <td>...</td>\n",
       "    </tr>\n",
       "    <tr>\n",
       "      <th>131879</th>\n",
       "      <td>66699</td>\n",
       "      <td>121620</td>\n",
       "      <td>2015-11-21T21:16:33Z</td>\n",
       "    </tr>\n",
       "    <tr>\n",
       "      <th>131880</th>\n",
       "      <td>66699</td>\n",
       "      <td>121883</td>\n",
       "      <td>2015-11-22T15:25:22Z</td>\n",
       "    </tr>\n",
       "    <tr>\n",
       "      <th>131881</th>\n",
       "      <td>39673</td>\n",
       "      <td>121883</td>\n",
       "      <td>2015-11-22T16:25:03Z</td>\n",
       "    </tr>\n",
       "    <tr>\n",
       "      <th>131882</th>\n",
       "      <td>12161</td>\n",
       "      <td>121883</td>\n",
       "      <td>2015-11-22T18:57:16Z</td>\n",
       "    </tr>\n",
       "    <tr>\n",
       "      <th>131883</th>\n",
       "      <td>2483</td>\n",
       "      <td>121883</td>\n",
       "      <td>2015-11-22T19:30:12Z</td>\n",
       "    </tr>\n",
       "  </tbody>\n",
       "</table>\n",
       "<p>131884 rows × 3 columns</p>\n",
       "</div>"
      ],
      "text/plain": [
       "        target  source             timestamp\n",
       "0            8       8  2003-12-03T09:04:10Z\n",
       "1           14      14  2004-02-23T09:10:57Z\n",
       "2           16      14  2004-02-23T09:28:02Z\n",
       "3           16      14  2004-02-25T20:41:16Z\n",
       "4           28      14  2004-04-05T16:58:09Z\n",
       "...        ...     ...                   ...\n",
       "131879   66699  121620  2015-11-21T21:16:33Z\n",
       "131880   66699  121883  2015-11-22T15:25:22Z\n",
       "131881   39673  121883  2015-11-22T16:25:03Z\n",
       "131882   12161  121883  2015-11-22T18:57:16Z\n",
       "131883    2483  121883  2015-11-22T19:30:12Z\n",
       "\n",
       "[131884 rows x 3 columns]"
      ]
     },
     "execution_count": 3,
     "metadata": {},
     "output_type": "execute_result"
    }
   ],
   "source": [
    "edgelist = pd.read_csv(os.path.join(data_dir, f\"{lang}-wiki-talk\"), sep='\\t', header=None, names=[\"target\", \"source\", \"timestamp\"])\n",
    "edgelist"
   ]
  },
  {
   "cell_type": "code",
   "execution_count": 4,
   "id": "5ba729e0-f170-42ea-97dd-0f4ede64cc9b",
   "metadata": {},
   "outputs": [],
   "source": [
    "# We have to use an undirected graph here because the node classification algorithms in nx do not support directed graphs\n",
    "G = nx.from_pandas_edgelist(edgelist)"
   ]
  },
  {
   "cell_type": "markdown",
   "id": "b478e931-cfa9-4920-a2b0-c4ed30fe12be",
   "metadata": {},
   "source": [
    "### Load node info"
   ]
  },
  {
   "cell_type": "code",
   "execution_count": 5,
   "id": "bca7a1af-6fda-4fb1-8919-fa70d55d21af",
   "metadata": {},
   "outputs": [
    {
     "data": {
      "text/html": [
       "<div>\n",
       "<style scoped>\n",
       "    .dataframe tbody tr th:only-of-type {\n",
       "        vertical-align: middle;\n",
       "    }\n",
       "\n",
       "    .dataframe tbody tr th {\n",
       "        vertical-align: top;\n",
       "    }\n",
       "\n",
       "    .dataframe thead th {\n",
       "        text-align: right;\n",
       "    }\n",
       "</style>\n",
       "<table border=\"1\" class=\"dataframe\">\n",
       "  <thead>\n",
       "    <tr style=\"text-align: right;\">\n",
       "      <th></th>\n",
       "      <th>0</th>\n",
       "      <th>1</th>\n",
       "    </tr>\n",
       "  </thead>\n",
       "  <tbody>\n",
       "    <tr>\n",
       "      <th>0</th>\n",
       "      <td>14940</td>\n",
       "      <td>1</td>\n",
       "    </tr>\n",
       "    <tr>\n",
       "      <th>1</th>\n",
       "      <td>36018</td>\n",
       "      <td>1</td>\n",
       "    </tr>\n",
       "    <tr>\n",
       "      <th>2</th>\n",
       "      <td>9422</td>\n",
       "      <td>0</td>\n",
       "    </tr>\n",
       "    <tr>\n",
       "      <th>3</th>\n",
       "      <td>74846</td>\n",
       "      <td>1</td>\n",
       "    </tr>\n",
       "    <tr>\n",
       "      <th>4</th>\n",
       "      <td>47824</td>\n",
       "      <td>1</td>\n",
       "    </tr>\n",
       "    <tr>\n",
       "      <th>...</th>\n",
       "      <td>...</td>\n",
       "      <td>...</td>\n",
       "    </tr>\n",
       "    <tr>\n",
       "      <th>148</th>\n",
       "      <td>12656</td>\n",
       "      <td>1</td>\n",
       "    </tr>\n",
       "    <tr>\n",
       "      <th>149</th>\n",
       "      <td>16434</td>\n",
       "      <td>1</td>\n",
       "    </tr>\n",
       "    <tr>\n",
       "      <th>150</th>\n",
       "      <td>4036</td>\n",
       "      <td>1</td>\n",
       "    </tr>\n",
       "    <tr>\n",
       "      <th>151</th>\n",
       "      <td>27162</td>\n",
       "      <td>2</td>\n",
       "    </tr>\n",
       "    <tr>\n",
       "      <th>152</th>\n",
       "      <td>10183</td>\n",
       "      <td>1</td>\n",
       "    </tr>\n",
       "  </tbody>\n",
       "</table>\n",
       "<p>153 rows × 2 columns</p>\n",
       "</div>"
      ],
      "text/plain": [
       "         0  1\n",
       "0    14940  1\n",
       "1    36018  1\n",
       "2     9422  0\n",
       "3    74846  1\n",
       "4    47824  1\n",
       "..     ... ..\n",
       "148  12656  1\n",
       "149  16434  1\n",
       "150   4036  1\n",
       "151  27162  2\n",
       "152  10183  1\n",
       "\n",
       "[153 rows x 2 columns]"
      ]
     },
     "execution_count": 5,
     "metadata": {},
     "output_type": "execute_result"
    }
   ],
   "source": [
    "df_nodes = pd.read_csv(os.path.join(data_dir, f\"{lang}-user-group\"), sep='\\t', header=None)\n",
    "df_nodes"
   ]
  },
  {
   "cell_type": "code",
   "execution_count": 6,
   "id": "8e372625-ad27-49c9-8c2c-155791911b24",
   "metadata": {},
   "outputs": [
    {
     "data": {
      "text/plain": [
       "41452"
      ]
     },
     "execution_count": 6,
     "metadata": {},
     "output_type": "execute_result"
    }
   ],
   "source": [
    "# number of nodes\n",
    "len(G.nodes)"
   ]
  },
  {
   "cell_type": "code",
   "execution_count": 7,
   "id": "056f2d1e-4850-492a-8bcf-8926b2bd4cff",
   "metadata": {},
   "outputs": [],
   "source": [
    "max_node_num = np.max(edgelist[[\"target\", \"source\"]].values) + 1\n",
    "node_ids = np.unique(edgelist[[\"target\", \"source\"]].values)"
   ]
  },
  {
   "cell_type": "code",
   "execution_count": 8,
   "id": "822be582-e627-4789-b610-71de7fa25ea2",
   "metadata": {},
   "outputs": [],
   "source": [
    "# dataset (roles)\n",
    "roles = df_nodes[[0,1]].values\n",
    "\n",
    "y = [0] * max_node_num\n",
    "for r in roles:\n",
    "    y[r[0]] = r[1]\n",
    "\n",
    "y = np.array([y[i] for i in node_ids])"
   ]
  },
  {
   "cell_type": "code",
   "execution_count": 9,
   "id": "ca3292c7-acd0-42e4-9efb-8011cb8e74c7",
   "metadata": {},
   "outputs": [],
   "source": [
    "df_nodes = pd.DataFrame({'id': node_ids, 'label': y})"
   ]
  },
  {
   "cell_type": "code",
   "execution_count": 10,
   "id": "94685235-c483-400e-aeca-aef4760fc547",
   "metadata": {},
   "outputs": [
    {
     "data": {
      "text/html": [
       "<div>\n",
       "<style scoped>\n",
       "    .dataframe tbody tr th:only-of-type {\n",
       "        vertical-align: middle;\n",
       "    }\n",
       "\n",
       "    .dataframe tbody tr th {\n",
       "        vertical-align: top;\n",
       "    }\n",
       "\n",
       "    .dataframe thead th {\n",
       "        text-align: right;\n",
       "    }\n",
       "</style>\n",
       "<table border=\"1\" class=\"dataframe\">\n",
       "  <thead>\n",
       "    <tr style=\"text-align: right;\">\n",
       "      <th></th>\n",
       "      <th>id</th>\n",
       "      <th>label</th>\n",
       "    </tr>\n",
       "  </thead>\n",
       "  <tbody>\n",
       "    <tr>\n",
       "      <th>0</th>\n",
       "      <td>2</td>\n",
       "      <td>0</td>\n",
       "    </tr>\n",
       "    <tr>\n",
       "      <th>1</th>\n",
       "      <td>8</td>\n",
       "      <td>0</td>\n",
       "    </tr>\n",
       "    <tr>\n",
       "      <th>2</th>\n",
       "      <td>9</td>\n",
       "      <td>0</td>\n",
       "    </tr>\n",
       "    <tr>\n",
       "      <th>3</th>\n",
       "      <td>12</td>\n",
       "      <td>0</td>\n",
       "    </tr>\n",
       "    <tr>\n",
       "      <th>4</th>\n",
       "      <td>14</td>\n",
       "      <td>0</td>\n",
       "    </tr>\n",
       "    <tr>\n",
       "      <th>...</th>\n",
       "      <td>...</td>\n",
       "      <td>...</td>\n",
       "    </tr>\n",
       "    <tr>\n",
       "      <th>41447</th>\n",
       "      <td>121707</td>\n",
       "      <td>0</td>\n",
       "    </tr>\n",
       "    <tr>\n",
       "      <th>41448</th>\n",
       "      <td>121750</td>\n",
       "      <td>0</td>\n",
       "    </tr>\n",
       "    <tr>\n",
       "      <th>41449</th>\n",
       "      <td>121851</td>\n",
       "      <td>0</td>\n",
       "    </tr>\n",
       "    <tr>\n",
       "      <th>41450</th>\n",
       "      <td>121883</td>\n",
       "      <td>0</td>\n",
       "    </tr>\n",
       "    <tr>\n",
       "      <th>41451</th>\n",
       "      <td>124347</td>\n",
       "      <td>0</td>\n",
       "    </tr>\n",
       "  </tbody>\n",
       "</table>\n",
       "<p>41452 rows × 2 columns</p>\n",
       "</div>"
      ],
      "text/plain": [
       "           id  label\n",
       "0           2      0\n",
       "1           8      0\n",
       "2           9      0\n",
       "3          12      0\n",
       "4          14      0\n",
       "...       ...    ...\n",
       "41447  121707      0\n",
       "41448  121750      0\n",
       "41449  121851      0\n",
       "41450  121883      0\n",
       "41451  124347      0\n",
       "\n",
       "[41452 rows x 2 columns]"
      ]
     },
     "execution_count": 10,
     "metadata": {},
     "output_type": "execute_result"
    }
   ],
   "source": [
    "df_nodes"
   ]
  },
  {
   "cell_type": "code",
   "execution_count": 11,
   "id": "2657ecce-cba7-413a-960b-63a1c82506e2",
   "metadata": {},
   "outputs": [],
   "source": [
    "df_train, df_test = train_test_split(df_nodes, train_size = train_size)"
   ]
  },
  {
   "cell_type": "code",
   "execution_count": 12,
   "id": "760c0864-903a-4b11-bf75-1ae516c3dc00",
   "metadata": {},
   "outputs": [],
   "source": [
    "node_ids_train, node_ids_test = df_train.iloc[:, 0].values, df_test.iloc[:, 0].values\n",
    "labels_train, labels_test = df_train.iloc[:, -1].values.astype(str), df_test.iloc[:, -1].values.astype(str)\n",
    "data_train = dict(zip(node_ids_train, labels_train))"
   ]
  },
  {
   "cell_type": "code",
   "execution_count": 13,
   "id": "3a687722-010e-4964-929d-d53838dcda30",
   "metadata": {},
   "outputs": [],
   "source": [
    "nx.set_node_attributes(G, data_train, name=\"label\")"
   ]
  },
  {
   "cell_type": "markdown",
   "id": "d22865f5-d076-4e00-886b-6207502a2b82",
   "metadata": {},
   "source": [
    "### Node classification"
   ]
  },
  {
   "cell_type": "markdown",
   "id": "4e0a3bdd-3f83-436f-9211-9282fdf5bcc1",
   "metadata": {},
   "source": [
    "Now we perform node classification using the built-in Harmonic Function method in NetworkX.\n",
    "\n",
    "* Zhu, X., Ghahramani, Z., & Lafferty, J. (2003, August). Semi-supervised learning using gaussian fields and harmonic functions. In ICML (Vol. 3, pp. 912-919).\n",
    "\n",
    "Note: this method is not scalable, so it might be problematic to run on large networks, such as the English Wiki-talk network `lang='en'`."
   ]
  },
  {
   "cell_type": "code",
   "execution_count": 14,
   "id": "47837b34-cdf2-4b37-843a-85b659effbea",
   "metadata": {},
   "outputs": [],
   "source": [
    "result = node_classification.harmonic_function(G)"
   ]
  },
  {
   "cell_type": "markdown",
   "id": "0da5b4ae-c6b8-4fcd-9c40-ad1f1354ad2c",
   "metadata": {},
   "source": [
    "The result contains the labels (predicted or ground truth) of all nodes. For example, the labels of the first five nodes:"
   ]
  },
  {
   "cell_type": "code",
   "execution_count": 15,
   "id": "8c511a9f-2e59-44bc-bf14-367030d3ebd9",
   "metadata": {},
   "outputs": [
    {
     "data": {
      "text/plain": [
       "['0', '0', '0', '0', '0']"
      ]
     },
     "execution_count": 15,
     "metadata": {},
     "output_type": "execute_result"
    }
   ],
   "source": [
    "result[:5]"
   ]
  },
  {
   "cell_type": "markdown",
   "id": "d1a52b74-b3fd-4647-94a5-e0da7ecdf71e",
   "metadata": {},
   "source": [
    "To check the performance of the classification, we fetch the labels of the nodes in the test set."
   ]
  },
  {
   "cell_type": "code",
   "execution_count": 16,
   "id": "40e595fb-4d02-4b6f-b126-c5fa564d78fe",
   "metadata": {},
   "outputs": [
    {
     "name": "stdout",
     "output_type": "stream",
     "text": [
      "Accuracy (Harmonic Function):  0.5913828042072758\n"
     ]
    }
   ],
   "source": [
    "dict_result = dict(zip(list(G), result))\n",
    "labels_pred = [ dict_result.get(id) for id in node_ids_test ]\n",
    "\n",
    "print('Accuracy (Harmonic Function): ', accuracy_score(labels_test, labels_pred))"
   ]
  },
  {
   "cell_type": "markdown",
   "id": "15d6add8-563c-44a4-9d4d-0bd921438ceb",
   "metadata": {},
   "source": [
    "Since the dataset is extremely imbalanced, i.e., a lot of nodes have label 0, representing normal users, accuracy is then not a good metric to evaluate the classifier. We calculate the recall score for each role."
   ]
  },
  {
   "cell_type": "code",
   "execution_count": 17,
   "id": "848f6ccc-f9b1-4071-83cc-5f3af2c6fca2",
   "metadata": {},
   "outputs": [
    {
     "data": {
      "text/plain": [
       "array([0.59269296, 0.16666667, 0.        ])"
      ]
     },
     "execution_count": 17,
     "metadata": {},
     "output_type": "execute_result"
    }
   ],
   "source": [
    "recall_score(labels_test, labels_pred, average=None)"
   ]
  },
  {
   "cell_type": "markdown",
   "id": "56c5550f-9f36-47d7-9a05-0556153f2c06",
   "metadata": {},
   "source": [
    "Similarly, we can perform node classification using the built-in Local and Global Consistency method.\n",
    "\n",
    "* Zhou, D., Bousquet, O., Lal, T. N., Weston, J., & Schölkopf, B. (2004). Learning with local and global consistency. Advances in neural information processing systems, 16(16), 321-328."
   ]
  },
  {
   "cell_type": "code",
   "execution_count": 18,
   "id": "7bb66b27-b96b-4295-ac84-11b66e833a1c",
   "metadata": {},
   "outputs": [],
   "source": [
    "result = node_classification.local_and_global_consistency(G)"
   ]
  },
  {
   "cell_type": "code",
   "execution_count": 19,
   "id": "8dffe5b7-a64d-4498-89bb-78d7899a6e65",
   "metadata": {},
   "outputs": [],
   "source": [
    "dict_result = dict(zip(list(G), result))\n",
    "labels_pred = [ dict_result.get(id) for id in node_ids_test ]"
   ]
  },
  {
   "cell_type": "code",
   "execution_count": 20,
   "id": "a5147371-15f6-4fcf-8bf7-ab05618df7ca",
   "metadata": {},
   "outputs": [
    {
     "name": "stdout",
     "output_type": "stream",
     "text": [
      "Accuracy (Local and Global Consistency):  0.9970085882466467\n"
     ]
    }
   ],
   "source": [
    "print('Accuracy (Local and Global Consistency): ', accuracy_score(labels_test, labels_pred))"
   ]
  },
  {
   "cell_type": "markdown",
   "id": "2083277e-4271-4042-92f3-30029d3c08a6",
   "metadata": {},
   "source": [
    "Again a high accuracy does not mean we have a good role classifier, due to the highly imbalanced dataset."
   ]
  },
  {
   "cell_type": "code",
   "execution_count": 21,
   "id": "b71c47d7-8927-4510-a553-5f71a7fba082",
   "metadata": {},
   "outputs": [
    {
     "data": {
      "text/plain": [
       "array([0.99995161, 0.        , 0.        ])"
      ]
     },
     "execution_count": 21,
     "metadata": {},
     "output_type": "execute_result"
    }
   ],
   "source": [
    "recall_score(labels_test, labels_pred, average=None)"
   ]
  },
  {
   "cell_type": "code",
   "execution_count": null,
   "id": "9450bfbd-562e-4c03-9188-5f68774a4a3a",
   "metadata": {},
   "outputs": [],
   "source": []
  }
 ],
 "metadata": {
  "kernelspec": {
   "display_name": "Python 3 (ipykernel)",
   "language": "python",
   "name": "python3"
  },
  "language_info": {
   "codemirror_mode": {
    "name": "ipython",
    "version": 3
   },
   "file_extension": ".py",
   "mimetype": "text/x-python",
   "name": "python",
   "nbconvert_exporter": "python",
   "pygments_lexer": "ipython3",
   "version": "3.9.6"
  }
 },
 "nbformat": 4,
 "nbformat_minor": 5
}
