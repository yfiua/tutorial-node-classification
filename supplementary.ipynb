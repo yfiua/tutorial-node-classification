{
 "cells": [
  {
   "cell_type": "markdown",
   "id": "eefbee0a-cf0c-4dec-9b36-8d3fe5aaf87d",
   "metadata": {},
   "source": [
    "# Import a network in PyG.\n",
    "\n",
    "ref: [1] https://pytorch-geometric.readthedocs.io/en/latest/get_started/introduction.html"
   ]
  },
  {
   "cell_type": "code",
   "execution_count": 1,
   "id": "803f9cd0-72d0-4a87-b2ed-3ec363d9a364",
   "metadata": {},
   "outputs": [],
   "source": [
    "import torch\n",
    "from torch_geometric.data import Data"
   ]
  },
  {
   "cell_type": "markdown",
   "id": "0029e799-fa88-4f83-8e24-aca65ced4dc9",
   "metadata": {},
   "source": [
    "Define the edge index where each column is a directed edge `(u, v)`. Define the feature matrix `x` where each row is the features of a node."
   ]
  },
  {
   "cell_type": "code",
   "execution_count": 2,
   "id": "0e735897-0122-49d0-ba17-fc547cbfb018",
   "metadata": {},
   "outputs": [],
   "source": [
    "edge_index = torch.tensor([[0, 1, 1, 2],\n",
    "                           [1, 0, 2, 1]], dtype=torch.long)\n",
    "x = torch.tensor([[-1], [0], [1]], dtype=torch.float)"
   ]
  },
  {
   "cell_type": "markdown",
   "id": "08472b9c-337d-451e-a9e7-35948f82a7b3",
   "metadata": {},
   "source": [
    "Note for undirected graphs we need to define edges in both directions."
   ]
  },
  {
   "cell_type": "code",
   "execution_count": 3,
   "id": "3d7b14cc-5c64-41fb-807c-3ec7195300e0",
   "metadata": {},
   "outputs": [
    {
     "data": {
      "text/plain": [
       "Data(x=[3, 1], edge_index=[2, 4])"
      ]
     },
     "execution_count": 3,
     "metadata": {},
     "output_type": "execute_result"
    }
   ],
   "source": [
    "data = Data(x=x, edge_index=edge_index)\n",
    "data"
   ]
  },
  {
   "cell_type": "code",
   "execution_count": 4,
   "id": "cb58be4c-7572-416c-a523-2a9f2b88e2a2",
   "metadata": {},
   "outputs": [
    {
     "data": {
      "text/plain": [
       "True"
      ]
     },
     "execution_count": 4,
     "metadata": {},
     "output_type": "execute_result"
    }
   ],
   "source": [
    "data.validate(raise_on_error=True)"
   ]
  },
  {
   "cell_type": "markdown",
   "id": "64e7f81c-3ded-4d35-9ba6-cbb8f79a66d4",
   "metadata": {},
   "source": [
    "## Common mistakes"
   ]
  },
  {
   "cell_type": "markdown",
   "id": "8b554a8b-c94b-4318-8e61-88059b10be1f",
   "metadata": {},
   "source": [
    "### 1. Wrongly put each row in `edge_index` as an edge"
   ]
  },
  {
   "cell_type": "code",
   "execution_count": 5,
   "id": "27d5d632-8363-4273-97c9-fc4c010ec4d6",
   "metadata": {},
   "outputs": [],
   "source": [
    "edge_index_m1 = torch.tensor([[0, 1],\n",
    "                              [1, 0],\n",
    "                              [1, 2],\n",
    "                              [2, 1]], dtype=torch.long)"
   ]
  },
  {
   "cell_type": "code",
   "execution_count": 6,
   "id": "648c8b79-64ac-4198-8888-9a20830463b4",
   "metadata": {},
   "outputs": [
    {
     "data": {
      "text/plain": [
       "Data(x=[3, 1], edge_index=[4, 2])"
      ]
     },
     "execution_count": 6,
     "metadata": {},
     "output_type": "execute_result"
    }
   ],
   "source": [
    "data = Data(x=x, edge_index=edge_index_m1)\n",
    "data"
   ]
  },
  {
   "cell_type": "code",
   "execution_count": 7,
   "id": "f3adf8bf-286b-4f70-8931-4e67c275d61d",
   "metadata": {},
   "outputs": [
    {
     "name": "stdout",
     "output_type": "stream",
     "text": [
      "ValueError: 'edge_index' needs to be of shape [2, num_edges] in 'Data' (found torch.Size([4, 2]))\n"
     ]
    }
   ],
   "source": [
    "try:\n",
    "    data.validate(raise_on_error=True)\n",
    "except ValueError as err:\n",
    "    print(f'ValueError: {err}')"
   ]
  },
  {
   "cell_type": "markdown",
   "id": "9bd530d9-8ade-4f35-b9c2-a0faadd98c43",
   "metadata": {},
   "source": [
    "To fix it, transpose `edge_index_m1` and call contiguous()."
   ]
  },
  {
   "cell_type": "code",
   "execution_count": 8,
   "id": "249f52da-5343-4f21-aea7-b278a0b5ac91",
   "metadata": {},
   "outputs": [
    {
     "data": {
      "text/plain": [
       "tensor([[0, 1, 1, 2],\n",
       "        [1, 0, 2, 1]])"
      ]
     },
     "execution_count": 8,
     "metadata": {},
     "output_type": "execute_result"
    }
   ],
   "source": [
    "edge_index_m1.T.contiguous()"
   ]
  },
  {
   "cell_type": "code",
   "execution_count": 9,
   "id": "e3b879e7-25c7-43a2-aa6d-d299d6fd89a0",
   "metadata": {},
   "outputs": [
    {
     "data": {
      "text/plain": [
       "Data(x=[3, 1], edge_index=[2, 4])"
      ]
     },
     "execution_count": 9,
     "metadata": {},
     "output_type": "execute_result"
    }
   ],
   "source": [
    "data = Data(x=x, edge_index=edge_index_m1.T.contiguous())\n",
    "data"
   ]
  },
  {
   "cell_type": "code",
   "execution_count": 10,
   "id": "00a9b9a8-e8c1-432f-872b-433787e1cb60",
   "metadata": {},
   "outputs": [
    {
     "data": {
      "text/plain": [
       "True"
      ]
     },
     "execution_count": 10,
     "metadata": {},
     "output_type": "execute_result"
    }
   ],
   "source": [
    "data.validate(raise_on_error=True)"
   ]
  },
  {
   "cell_type": "markdown",
   "id": "e1229508-ba75-4da3-b402-f3495e14cd56",
   "metadata": {},
   "source": [
    "### 2. Node IDs are discontinuous or do not start from 0\n",
    "\n",
    "PyG typically expects node indices to range from 0 to `N-1` where `N` is the number of nodes.\n",
    "Thus, conversion is necessary when node IDs are discontinuous or do not start from 0. We now use the US-airports data as an example and show a way to convert the discontinous node IDs to continuous ones."
   ]
  },
  {
   "cell_type": "code",
   "execution_count": 11,
   "id": "f6e66a81-1bf6-415d-a4aa-bb487d6711b0",
   "metadata": {},
   "outputs": [
    {
     "data": {
      "text/html": [
       "<div>\n",
       "<style scoped>\n",
       "    .dataframe tbody tr th:only-of-type {\n",
       "        vertical-align: middle;\n",
       "    }\n",
       "\n",
       "    .dataframe tbody tr th {\n",
       "        vertical-align: top;\n",
       "    }\n",
       "\n",
       "    .dataframe thead th {\n",
       "        text-align: right;\n",
       "    }\n",
       "</style>\n",
       "<table border=\"1\" class=\"dataframe\">\n",
       "  <thead>\n",
       "    <tr style=\"text-align: right;\">\n",
       "      <th></th>\n",
       "      <th>source</th>\n",
       "      <th>target</th>\n",
       "    </tr>\n",
       "  </thead>\n",
       "  <tbody>\n",
       "    <tr>\n",
       "      <th>0</th>\n",
       "      <td>12343</td>\n",
       "      <td>12129</td>\n",
       "    </tr>\n",
       "    <tr>\n",
       "      <th>1</th>\n",
       "      <td>13277</td>\n",
       "      <td>11996</td>\n",
       "    </tr>\n",
       "    <tr>\n",
       "      <th>2</th>\n",
       "      <td>13796</td>\n",
       "      <td>13476</td>\n",
       "    </tr>\n",
       "    <tr>\n",
       "      <th>3</th>\n",
       "      <td>15061</td>\n",
       "      <td>14559</td>\n",
       "    </tr>\n",
       "    <tr>\n",
       "      <th>4</th>\n",
       "      <td>14314</td>\n",
       "      <td>12889</td>\n",
       "    </tr>\n",
       "    <tr>\n",
       "      <th>...</th>\n",
       "      <td>...</td>\n",
       "      <td>...</td>\n",
       "    </tr>\n",
       "    <tr>\n",
       "      <th>13594</th>\n",
       "      <td>13303</td>\n",
       "      <td>10747</td>\n",
       "    </tr>\n",
       "    <tr>\n",
       "      <th>13595</th>\n",
       "      <td>13029</td>\n",
       "      <td>12892</td>\n",
       "    </tr>\n",
       "    <tr>\n",
       "      <th>13596</th>\n",
       "      <td>13930</td>\n",
       "      <td>11618</td>\n",
       "    </tr>\n",
       "    <tr>\n",
       "      <th>13597</th>\n",
       "      <td>12278</td>\n",
       "      <td>11423</td>\n",
       "    </tr>\n",
       "    <tr>\n",
       "      <th>13598</th>\n",
       "      <td>14747</td>\n",
       "      <td>11267</td>\n",
       "    </tr>\n",
       "  </tbody>\n",
       "</table>\n",
       "<p>13599 rows × 2 columns</p>\n",
       "</div>"
      ],
      "text/plain": [
       "       source  target\n",
       "0       12343   12129\n",
       "1       13277   11996\n",
       "2       13796   13476\n",
       "3       15061   14559\n",
       "4       14314   12889\n",
       "...       ...     ...\n",
       "13594   13303   10747\n",
       "13595   13029   12892\n",
       "13596   13930   11618\n",
       "13597   12278   11423\n",
       "13598   14747   11267\n",
       "\n",
       "[13599 rows x 2 columns]"
      ]
     },
     "execution_count": 11,
     "metadata": {},
     "output_type": "execute_result"
    }
   ],
   "source": [
    "import pandas as pd\n",
    "import numpy as np\n",
    "import os\n",
    "\n",
    "data_dir = 'data/airports/'\n",
    "network = 'usa'\n",
    "\n",
    "edgelist = pd.read_csv(os.path.join(data_dir, f\"{network}-airports.edgelist\"), sep=' ', header=None, names=[\"source\", \"target\"])\n",
    "edgelist"
   ]
  },
  {
   "cell_type": "markdown",
   "id": "930c8b40-56f1-4778-824a-b3b705521c68",
   "metadata": {},
   "source": [
    "Original node IDs which are discontinuous and do not start from 0."
   ]
  },
  {
   "cell_type": "code",
   "execution_count": 12,
   "id": "42e0bb09-33d3-48e4-8ab9-7d4910d5e294",
   "metadata": {},
   "outputs": [
    {
     "data": {
      "text/plain": [
       "array([10005, 10006, 10011, ..., 16743, 16744, 16746])"
      ]
     },
     "execution_count": 12,
     "metadata": {},
     "output_type": "execute_result"
    }
   ],
   "source": [
    "node_ids = np.sort(np.unique(edgelist[[\"source\", \"target\"]].values))\n",
    "node_ids"
   ]
  },
  {
   "cell_type": "markdown",
   "id": "dfa2a634-df55-4fd2-a0f7-7f2a8216703a",
   "metadata": {},
   "source": [
    "We now create a mapping between the original IDs and continuous IDs."
   ]
  },
  {
   "cell_type": "code",
   "execution_count": 13,
   "id": "1ce486cc-2944-47b5-91dc-b0c3381df8f2",
   "metadata": {},
   "outputs": [],
   "source": [
    "node_id_mapping = { node_id : i for i, node_id in enumerate(node_ids) }"
   ]
  },
  {
   "cell_type": "markdown",
   "id": "b7ed623e-8938-452f-adb1-8d565df791a2",
   "metadata": {},
   "source": [
    "Replace the original IDs with the continuous IDs"
   ]
  },
  {
   "cell_type": "code",
   "execution_count": 14,
   "id": "ce4207dc-e308-46a2-a929-54d4bfed0ed1",
   "metadata": {},
   "outputs": [
    {
     "data": {
      "text/html": [
       "<div>\n",
       "<style scoped>\n",
       "    .dataframe tbody tr th:only-of-type {\n",
       "        vertical-align: middle;\n",
       "    }\n",
       "\n",
       "    .dataframe tbody tr th {\n",
       "        vertical-align: top;\n",
       "    }\n",
       "\n",
       "    .dataframe thead th {\n",
       "        text-align: right;\n",
       "    }\n",
       "</style>\n",
       "<table border=\"1\" class=\"dataframe\">\n",
       "  <thead>\n",
       "    <tr style=\"text-align: right;\">\n",
       "      <th></th>\n",
       "      <th>source</th>\n",
       "      <th>target</th>\n",
       "    </tr>\n",
       "  </thead>\n",
       "  <tbody>\n",
       "    <tr>\n",
       "      <th>0</th>\n",
       "      <td>468</td>\n",
       "      <td>412</td>\n",
       "    </tr>\n",
       "    <tr>\n",
       "      <th>1</th>\n",
       "      <td>642</td>\n",
       "      <td>391</td>\n",
       "    </tr>\n",
       "    <tr>\n",
       "      <th>2</th>\n",
       "      <td>737</td>\n",
       "      <td>678</td>\n",
       "    </tr>\n",
       "    <tr>\n",
       "      <th>3</th>\n",
       "      <td>987</td>\n",
       "      <td>871</td>\n",
       "    </tr>\n",
       "    <tr>\n",
       "      <th>4</th>\n",
       "      <td>834</td>\n",
       "      <td>566</td>\n",
       "    </tr>\n",
       "    <tr>\n",
       "      <th>...</th>\n",
       "      <td>...</td>\n",
       "      <td>...</td>\n",
       "    </tr>\n",
       "    <tr>\n",
       "      <th>13594</th>\n",
       "      <td>649</td>\n",
       "      <td>137</td>\n",
       "    </tr>\n",
       "    <tr>\n",
       "      <th>13595</th>\n",
       "      <td>595</td>\n",
       "      <td>568</td>\n",
       "    </tr>\n",
       "    <tr>\n",
       "      <th>13596</th>\n",
       "      <td>759</td>\n",
       "      <td>306</td>\n",
       "    </tr>\n",
       "    <tr>\n",
       "      <th>13597</th>\n",
       "      <td>454</td>\n",
       "      <td>259</td>\n",
       "    </tr>\n",
       "    <tr>\n",
       "      <th>13598</th>\n",
       "      <td>914</td>\n",
       "      <td>229</td>\n",
       "    </tr>\n",
       "  </tbody>\n",
       "</table>\n",
       "<p>13599 rows × 2 columns</p>\n",
       "</div>"
      ],
      "text/plain": [
       "       source  target\n",
       "0         468     412\n",
       "1         642     391\n",
       "2         737     678\n",
       "3         987     871\n",
       "4         834     566\n",
       "...       ...     ...\n",
       "13594     649     137\n",
       "13595     595     568\n",
       "13596     759     306\n",
       "13597     454     259\n",
       "13598     914     229\n",
       "\n",
       "[13599 rows x 2 columns]"
      ]
     },
     "execution_count": 14,
     "metadata": {},
     "output_type": "execute_result"
    }
   ],
   "source": [
    "edgelist[[\"source\", \"target\"]] = edgelist[[\"source\", \"target\"]].replace(node_id_mapping)\n",
    "edgelist"
   ]
  },
  {
   "cell_type": "markdown",
   "id": "9b26c1e3-22b5-4ecd-8197-71a156968dd4",
   "metadata": {},
   "source": [
    "Now the node IDs are continuous and start from 0."
   ]
  },
  {
   "cell_type": "code",
   "execution_count": 15,
   "id": "8bcc604b-2c67-4223-a534-ad8d3d5a8c17",
   "metadata": {},
   "outputs": [
    {
     "data": {
      "text/plain": [
       "array([   0,    1,    2, ..., 1187, 1188, 1189])"
      ]
     },
     "execution_count": 15,
     "metadata": {},
     "output_type": "execute_result"
    }
   ],
   "source": [
    "np.sort(np.unique(edgelist[[\"source\", \"target\"]].values))"
   ]
  }
 ],
 "metadata": {
  "kernelspec": {
   "display_name": "Python 3 (ipykernel)",
   "language": "python",
   "name": "python3"
  },
  "language_info": {
   "codemirror_mode": {
    "name": "ipython",
    "version": 3
   },
   "file_extension": ".py",
   "mimetype": "text/x-python",
   "name": "python",
   "nbconvert_exporter": "python",
   "pygments_lexer": "ipython3",
   "version": "3.9.6"
  }
 },
 "nbformat": 4,
 "nbformat_minor": 5
}
