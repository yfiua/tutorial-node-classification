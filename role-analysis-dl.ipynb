{
 "cells": [
  {
   "cell_type": "code",
   "execution_count": 1,
   "id": "5aeacc3b-f4b5-4d7d-95cd-552dae1954ff",
   "metadata": {},
   "outputs": [],
   "source": [
    "import os\n",
    "import numpy as np\n",
    "import pandas as pd\n",
    "import torch\n",
    "\n",
    "from torch_geometric.data import Data"
   ]
  },
  {
   "cell_type": "markdown",
   "id": "53460017-6da0-4d13-a084-173175f8bb75",
   "metadata": {},
   "source": [
    "## Load dataset"
   ]
  },
  {
   "cell_type": "markdown",
   "id": "72d4ada3-83a9-42bb-a9a5-d6edd041cb51",
   "metadata": {},
   "source": [
    "The Wiki-talk dataset we will use is not available in the ```torch_geometric``` package. Thus we need to load it manually."
   ]
  },
  {
   "cell_type": "code",
   "execution_count": 2,
   "id": "ca658f0f-17d8-48c0-b100-dc0a07bb9e51",
   "metadata": {},
   "outputs": [],
   "source": [
    "# params\n",
    "data_dir = 'data/wiki-talk/'\n",
    "train_size = 0.5\n",
    "lang = 'br'    # specify which language of Wikipedia "
   ]
  },
  {
   "cell_type": "markdown",
   "id": "05f99f58-b35c-4e62-8d42-0adbc1759299",
   "metadata": {},
   "source": [
    "### Load edge info"
   ]
  },
  {
   "cell_type": "code",
   "execution_count": 3,
   "id": "d0ad7d9a-a96f-4a4f-a869-0c33b316b3ef",
   "metadata": {},
   "outputs": [
    {
     "data": {
      "text/html": [
       "<div>\n",
       "<style scoped>\n",
       "    .dataframe tbody tr th:only-of-type {\n",
       "        vertical-align: middle;\n",
       "    }\n",
       "\n",
       "    .dataframe tbody tr th {\n",
       "        vertical-align: top;\n",
       "    }\n",
       "\n",
       "    .dataframe thead th {\n",
       "        text-align: right;\n",
       "    }\n",
       "</style>\n",
       "<table border=\"1\" class=\"dataframe\">\n",
       "  <thead>\n",
       "    <tr style=\"text-align: right;\">\n",
       "      <th></th>\n",
       "      <th>source</th>\n",
       "      <th>target</th>\n",
       "      <th>timestamp</th>\n",
       "    </tr>\n",
       "  </thead>\n",
       "  <tbody>\n",
       "    <tr>\n",
       "      <th>0</th>\n",
       "      <td>3</td>\n",
       "      <td>3</td>\n",
       "      <td>2004-06-23T18:51:49Z</td>\n",
       "    </tr>\n",
       "    <tr>\n",
       "      <th>1</th>\n",
       "      <td>112</td>\n",
       "      <td>3</td>\n",
       "      <td>2005-08-31T08:43:02Z</td>\n",
       "    </tr>\n",
       "    <tr>\n",
       "      <th>2</th>\n",
       "      <td>28743</td>\n",
       "      <td>3</td>\n",
       "      <td>2015-03-17T19:23:56Z</td>\n",
       "    </tr>\n",
       "    <tr>\n",
       "      <th>3</th>\n",
       "      <td>33919</td>\n",
       "      <td>3</td>\n",
       "      <td>2015-04-17T19:48:20Z</td>\n",
       "    </tr>\n",
       "    <tr>\n",
       "      <th>4</th>\n",
       "      <td>28743</td>\n",
       "      <td>3</td>\n",
       "      <td>2015-04-19T02:47:40Z</td>\n",
       "    </tr>\n",
       "    <tr>\n",
       "      <th>...</th>\n",
       "      <td>...</td>\n",
       "      <td>...</td>\n",
       "      <td>...</td>\n",
       "    </tr>\n",
       "    <tr>\n",
       "      <th>13749</th>\n",
       "      <td>36043</td>\n",
       "      <td>36043</td>\n",
       "      <td>2015-10-18T12:40:05Z</td>\n",
       "    </tr>\n",
       "    <tr>\n",
       "      <th>13750</th>\n",
       "      <td>36056</td>\n",
       "      <td>36056</td>\n",
       "      <td>2015-10-19T04:55:25Z</td>\n",
       "    </tr>\n",
       "    <tr>\n",
       "      <th>13751</th>\n",
       "      <td>500</td>\n",
       "      <td>36149</td>\n",
       "      <td>2015-10-30T13:12:31Z</td>\n",
       "    </tr>\n",
       "    <tr>\n",
       "      <th>13752</th>\n",
       "      <td>200</td>\n",
       "      <td>16709</td>\n",
       "      <td>2015-11-11T08:49:42Z</td>\n",
       "    </tr>\n",
       "    <tr>\n",
       "      <th>13753</th>\n",
       "      <td>30046</td>\n",
       "      <td>29238</td>\n",
       "      <td>2015-11-16T21:13:27Z</td>\n",
       "    </tr>\n",
       "  </tbody>\n",
       "</table>\n",
       "<p>13754 rows × 3 columns</p>\n",
       "</div>"
      ],
      "text/plain": [
       "       source  target             timestamp\n",
       "0           3       3  2004-06-23T18:51:49Z\n",
       "1         112       3  2005-08-31T08:43:02Z\n",
       "2       28743       3  2015-03-17T19:23:56Z\n",
       "3       33919       3  2015-04-17T19:48:20Z\n",
       "4       28743       3  2015-04-19T02:47:40Z\n",
       "...       ...     ...                   ...\n",
       "13749   36043   36043  2015-10-18T12:40:05Z\n",
       "13750   36056   36056  2015-10-19T04:55:25Z\n",
       "13751     500   36149  2015-10-30T13:12:31Z\n",
       "13752     200   16709  2015-11-11T08:49:42Z\n",
       "13753   30046   29238  2015-11-16T21:13:27Z\n",
       "\n",
       "[13754 rows x 3 columns]"
      ]
     },
     "execution_count": 3,
     "metadata": {},
     "output_type": "execute_result"
    }
   ],
   "source": [
    "edgelist = pd.read_csv(os.path.join(data_dir, f\"{lang}-wiki-talk\"), sep='\\t', header=None, names=[\"source\", \"target\", \"timestamp\"])\n",
    "edgelist"
   ]
  },
  {
   "cell_type": "markdown",
   "id": "7fa44cec-4c94-4fa4-a55e-7492f33e3482",
   "metadata": {},
   "source": [
    "### Load node info"
   ]
  },
  {
   "cell_type": "code",
   "execution_count": 4,
   "id": "66a3fd47-61ff-4b1b-9ec6-f53daffc437d",
   "metadata": {},
   "outputs": [
    {
     "data": {
      "text/html": [
       "<div>\n",
       "<style scoped>\n",
       "    .dataframe tbody tr th:only-of-type {\n",
       "        vertical-align: middle;\n",
       "    }\n",
       "\n",
       "    .dataframe tbody tr th {\n",
       "        vertical-align: top;\n",
       "    }\n",
       "\n",
       "    .dataframe thead th {\n",
       "        text-align: right;\n",
       "    }\n",
       "</style>\n",
       "<table border=\"1\" class=\"dataframe\">\n",
       "  <thead>\n",
       "    <tr style=\"text-align: right;\">\n",
       "      <th></th>\n",
       "      <th>0</th>\n",
       "      <th>1</th>\n",
       "    </tr>\n",
       "  </thead>\n",
       "  <tbody>\n",
       "    <tr>\n",
       "      <th>0</th>\n",
       "      <td>388</td>\n",
       "      <td>2</td>\n",
       "    </tr>\n",
       "    <tr>\n",
       "      <th>1</th>\n",
       "      <td>35159</td>\n",
       "      <td>1</td>\n",
       "    </tr>\n",
       "    <tr>\n",
       "      <th>2</th>\n",
       "      <td>528</td>\n",
       "      <td>1</td>\n",
       "    </tr>\n",
       "    <tr>\n",
       "      <th>3</th>\n",
       "      <td>2695</td>\n",
       "      <td>1</td>\n",
       "    </tr>\n",
       "    <tr>\n",
       "      <th>4</th>\n",
       "      <td>28743</td>\n",
       "      <td>1</td>\n",
       "    </tr>\n",
       "    <tr>\n",
       "      <th>...</th>\n",
       "      <td>...</td>\n",
       "      <td>...</td>\n",
       "    </tr>\n",
       "    <tr>\n",
       "      <th>84</th>\n",
       "      <td>1890</td>\n",
       "      <td>1</td>\n",
       "    </tr>\n",
       "    <tr>\n",
       "      <th>85</th>\n",
       "      <td>724</td>\n",
       "      <td>1</td>\n",
       "    </tr>\n",
       "    <tr>\n",
       "      <th>86</th>\n",
       "      <td>25719</td>\n",
       "      <td>1</td>\n",
       "    </tr>\n",
       "    <tr>\n",
       "      <th>87</th>\n",
       "      <td>3010</td>\n",
       "      <td>1</td>\n",
       "    </tr>\n",
       "    <tr>\n",
       "      <th>88</th>\n",
       "      <td>15563</td>\n",
       "      <td>1</td>\n",
       "    </tr>\n",
       "  </tbody>\n",
       "</table>\n",
       "<p>89 rows × 2 columns</p>\n",
       "</div>"
      ],
      "text/plain": [
       "        0  1\n",
       "0     388  2\n",
       "1   35159  1\n",
       "2     528  1\n",
       "3    2695  1\n",
       "4   28743  1\n",
       "..    ... ..\n",
       "84   1890  1\n",
       "85    724  1\n",
       "86  25719  1\n",
       "87   3010  1\n",
       "88  15563  1\n",
       "\n",
       "[89 rows x 2 columns]"
      ]
     },
     "execution_count": 4,
     "metadata": {},
     "output_type": "execute_result"
    }
   ],
   "source": [
    "df_nodes = pd.read_csv(os.path.join(data_dir, f\"{lang}-user-group\"), sep='\\t', header=None)\n",
    "df_nodes"
   ]
  },
  {
   "cell_type": "code",
   "execution_count": 5,
   "id": "78fcd448-fec7-46b2-88fa-20e21193359c",
   "metadata": {},
   "outputs": [],
   "source": [
    "max_node_num = np.max(edgelist[[\"source\", \"target\"]].values) + 1\n",
    "node_ids = np.sort(np.unique(edgelist[[\"source\", \"target\"]].values))"
   ]
  },
  {
   "cell_type": "code",
   "execution_count": 6,
   "id": "d520a4a5-4337-4f03-bcc4-e2abb121056e",
   "metadata": {},
   "outputs": [],
   "source": [
    "# number of nodes\n",
    "N = len(node_ids)"
   ]
  },
  {
   "cell_type": "code",
   "execution_count": 7,
   "id": "a68ef759-7fff-4541-b46d-1b1d898709d5",
   "metadata": {},
   "outputs": [],
   "source": [
    "# dataset (roles)\n",
    "roles = df_nodes[[0, 1]].values\n",
    "\n",
    "y = [0] * max_node_num\n",
    "for r in roles:\n",
    "    y[r[0]] = r[1]\n",
    "\n",
    "y = np.array([y[i] for i in node_ids])"
   ]
  },
  {
   "cell_type": "code",
   "execution_count": 8,
   "id": "81342a2d-6dd0-4bcc-b587-275e0bfcd34e",
   "metadata": {},
   "outputs": [
    {
     "data": {
      "text/html": [
       "<div>\n",
       "<style scoped>\n",
       "    .dataframe tbody tr th:only-of-type {\n",
       "        vertical-align: middle;\n",
       "    }\n",
       "\n",
       "    .dataframe tbody tr th {\n",
       "        vertical-align: top;\n",
       "    }\n",
       "\n",
       "    .dataframe thead th {\n",
       "        text-align: right;\n",
       "    }\n",
       "</style>\n",
       "<table border=\"1\" class=\"dataframe\">\n",
       "  <thead>\n",
       "    <tr style=\"text-align: right;\">\n",
       "      <th></th>\n",
       "      <th>id</th>\n",
       "      <th>label</th>\n",
       "    </tr>\n",
       "  </thead>\n",
       "  <tbody>\n",
       "    <tr>\n",
       "      <th>0</th>\n",
       "      <td>1</td>\n",
       "      <td>0</td>\n",
       "    </tr>\n",
       "    <tr>\n",
       "      <th>1</th>\n",
       "      <td>3</td>\n",
       "      <td>0</td>\n",
       "    </tr>\n",
       "    <tr>\n",
       "      <th>2</th>\n",
       "      <td>5</td>\n",
       "      <td>0</td>\n",
       "    </tr>\n",
       "    <tr>\n",
       "      <th>3</th>\n",
       "      <td>7</td>\n",
       "      <td>0</td>\n",
       "    </tr>\n",
       "    <tr>\n",
       "      <th>4</th>\n",
       "      <td>8</td>\n",
       "      <td>2</td>\n",
       "    </tr>\n",
       "    <tr>\n",
       "      <th>...</th>\n",
       "      <td>...</td>\n",
       "      <td>...</td>\n",
       "    </tr>\n",
       "    <tr>\n",
       "      <th>1176</th>\n",
       "      <td>35942</td>\n",
       "      <td>0</td>\n",
       "    </tr>\n",
       "    <tr>\n",
       "      <th>1177</th>\n",
       "      <td>36043</td>\n",
       "      <td>0</td>\n",
       "    </tr>\n",
       "    <tr>\n",
       "      <th>1178</th>\n",
       "      <td>36056</td>\n",
       "      <td>0</td>\n",
       "    </tr>\n",
       "    <tr>\n",
       "      <th>1179</th>\n",
       "      <td>36149</td>\n",
       "      <td>0</td>\n",
       "    </tr>\n",
       "    <tr>\n",
       "      <th>1180</th>\n",
       "      <td>36187</td>\n",
       "      <td>0</td>\n",
       "    </tr>\n",
       "  </tbody>\n",
       "</table>\n",
       "<p>1181 rows × 2 columns</p>\n",
       "</div>"
      ],
      "text/plain": [
       "         id  label\n",
       "0         1      0\n",
       "1         3      0\n",
       "2         5      0\n",
       "3         7      0\n",
       "4         8      2\n",
       "...     ...    ...\n",
       "1176  35942      0\n",
       "1177  36043      0\n",
       "1178  36056      0\n",
       "1179  36149      0\n",
       "1180  36187      0\n",
       "\n",
       "[1181 rows x 2 columns]"
      ]
     },
     "execution_count": 8,
     "metadata": {},
     "output_type": "execute_result"
    }
   ],
   "source": [
    "df_nodes = pd.DataFrame({'id': node_ids, 'label': y})\n",
    "df_nodes"
   ]
  },
  {
   "cell_type": "markdown",
   "id": "18b2d90f-e8cc-4780-a5d9-bf69b2f367d0",
   "metadata": {},
   "source": [
    "## Convert to continuous node IDs\n",
    "In the original Wiki-talk datasets, the node IDs are discontinuous as shown above, because they represent the original Wikipedia user IDs. However, graph neural networks typically expect node indices to range from 0 to `N-1` where `N` is the number of nodes.\n",
    "Thus, the conversion is necessary. We now show a way to convert the discontinous node IDs to continuous ones."
   ]
  },
  {
   "cell_type": "code",
   "execution_count": 9,
   "id": "e446980a-33fb-4289-96d7-ba4c52428400",
   "metadata": {},
   "outputs": [],
   "source": [
    "# create a mapping between the original IDs and continuous IDs\n",
    "node_id_mapping = { node_id : i for i, node_id in enumerate(node_ids) }"
   ]
  },
  {
   "cell_type": "code",
   "execution_count": 10,
   "id": "48703df8-2a7f-4728-b407-805d3a5deeaa",
   "metadata": {},
   "outputs": [],
   "source": [
    "# replace the original IDs with the continuous IDs\n",
    "edgelist[[\"source\", \"target\"]] = edgelist[[\"source\", \"target\"]].replace(node_id_mapping)\n",
    "df_nodes['id'] = df_nodes['id'].replace(node_id_mapping)"
   ]
  },
  {
   "cell_type": "code",
   "execution_count": 11,
   "id": "9b9c55a0-0486-46eb-8134-a13335742e70",
   "metadata": {},
   "outputs": [
    {
     "data": {
      "text/plain": [
       "0          0\n",
       "1          0\n",
       "2          2\n",
       "3          1\n",
       "4          4\n",
       "        ... \n",
       "1176    1176\n",
       "1177    1177\n",
       "1178    1178\n",
       "1179     526\n",
       "1180    1180\n",
       "Name: id, Length: 1181, dtype: int64"
      ]
     },
     "execution_count": 11,
     "metadata": {},
     "output_type": "execute_result"
    }
   ],
   "source": [
    "df_nodes['id'].replace(node_id_mapping)"
   ]
  },
  {
   "cell_type": "markdown",
   "id": "ae18d7c7-16f6-4431-aa3f-4a817917c540",
   "metadata": {},
   "source": [
    "## Compute node features"
   ]
  },
  {
   "cell_type": "code",
   "execution_count": 12,
   "id": "2ffa6611-4df6-4b3e-9aff-0db6dad34da7",
   "metadata": {},
   "outputs": [],
   "source": [
    "import networkx as nx\n",
    "\n",
    "# we can use directed graph here because we do not rely on the node classification algorithms from nx\n",
    "G = nx.DiGraph()\n",
    "G.add_nodes_from(range(N))"
   ]
  },
  {
   "cell_type": "code",
   "execution_count": 13,
   "id": "537d3e3d-2fee-4942-8f88-22a58b5fcec4",
   "metadata": {},
   "outputs": [],
   "source": [
    "G.add_edges_from(edgelist[[\"source\", \"target\"]].values)"
   ]
  },
  {
   "cell_type": "code",
   "execution_count": 14,
   "id": "4a725ce3-0652-464f-8162-258c1b6bf66d",
   "metadata": {},
   "outputs": [],
   "source": [
    "# Compute Degree\n",
    "deg = [val for (node, val) in G.degree()]\n",
    "\n",
    "# Compute In-Degree\n",
    "in_deg = [val for (node, val) in G.in_degree()]\n",
    "\n",
    "# Compute Out-Degree\n",
    "out_deg = [val for (node, val) in G.out_degree()]\n",
    "\n",
    "# Compute Clustering Coefficient\n",
    "clust_coeff = list(nx.clustering(G.to_undirected()).values())\n",
    "\n",
    "# Compute PageRank\n",
    "pr = list(nx.pagerank(G, alpha=0.85).values())"
   ]
  },
  {
   "cell_type": "code",
   "execution_count": 15,
   "id": "130de646-7a64-4da4-bcd3-dc6d8e19d437",
   "metadata": {},
   "outputs": [],
   "source": [
    "x = np.array([deg, in_deg, out_deg, clust_coeff, pr]).T"
   ]
  },
  {
   "cell_type": "markdown",
   "id": "14d799b1-3e2a-4ab4-81a6-c393e3322d64",
   "metadata": {},
   "source": [
    "### Split training and test data"
   ]
  },
  {
   "cell_type": "code",
   "execution_count": 16,
   "id": "08e7d965-cb99-4512-8d43-922291f661c3",
   "metadata": {},
   "outputs": [],
   "source": [
    "# Generate random permutation of node indices\n",
    "perm = torch.randperm(N)\n",
    "\n",
    "# Select train and test nodes\n",
    "train_idx = perm[: int(train_size * N)]\n",
    "test_idx = perm[int(train_size * N) :]\n",
    "\n",
    "# Initialize train_mask and test_mask with False\n",
    "train_mask = torch.zeros(N, dtype=torch.bool)\n",
    "test_mask = torch.zeros(N, dtype=torch.bool)\n",
    "\n",
    "# Set the selected indices to True\n",
    "train_mask[train_idx] = True\n",
    "test_mask[test_idx] = True"
   ]
  },
  {
   "cell_type": "markdown",
   "id": "a0beec51-c94b-4cfb-8ce8-c77685979327",
   "metadata": {},
   "source": [
    "### Load data to PyG"
   ]
  },
  {
   "cell_type": "code",
   "execution_count": 17,
   "id": "8c898c72-1162-4df0-b13c-f785cc1b342d",
   "metadata": {},
   "outputs": [],
   "source": [
    "edge_index = torch.tensor(edgelist[[\"target\", \"source\"]].values.T, dtype=torch.long)\n",
    "\n",
    "# node features and labels\n",
    "x = torch.tensor(x, dtype=torch.float)\n",
    "y = torch.tensor(y, dtype=torch.float)"
   ]
  },
  {
   "cell_type": "code",
   "execution_count": 18,
   "id": "942f0c20-4b35-401e-a077-ccd1ddac6797",
   "metadata": {},
   "outputs": [
    {
     "data": {
      "text/plain": [
       "Data(x=[1181, 5], edge_index=[2, 13754], y=[1181], train_mask=[1181], test_mask=[1181])"
      ]
     },
     "execution_count": 18,
     "metadata": {},
     "output_type": "execute_result"
    }
   ],
   "source": [
    "data = Data(x=x, y=y, edge_index=edge_index, train_mask=train_mask, test_mask=test_mask)\n",
    "data"
   ]
  },
  {
   "cell_type": "code",
   "execution_count": 19,
   "id": "0855c4aa-3682-4ced-aaf2-77237b683133",
   "metadata": {},
   "outputs": [
    {
     "data": {
      "text/plain": [
       "True"
      ]
     },
     "execution_count": 19,
     "metadata": {},
     "output_type": "execute_result"
    }
   ],
   "source": [
    "data.validate(raise_on_error=True)"
   ]
  },
  {
   "cell_type": "markdown",
   "id": "bc5b08a0-9347-4d1b-a4fb-f3a200e8837b",
   "metadata": {},
   "source": [
    "## Define and train a simply Graph Convolutional Network model"
   ]
  },
  {
   "cell_type": "code",
   "execution_count": 20,
   "id": "ed2cb74a-2da6-4012-91b2-c3eb7b2cb8d0",
   "metadata": {},
   "outputs": [],
   "source": [
    "import torch.nn.functional as F\n",
    "from torch_geometric.nn import GCNConv\n",
    "\n",
    "class GCN(torch.nn.Module):\n",
    "    def __init__(self):\n",
    "        super().__init__()\n",
    "        self.conv1 = GCNConv(5, 16)\n",
    "        self.conv2 = GCNConv(16, 3)\n",
    "\n",
    "    def forward(self, data):\n",
    "        x, edge_index = data.x, data.edge_index\n",
    "\n",
    "        x = self.conv1(x, edge_index)\n",
    "        x = F.relu(x)\n",
    "        x = F.dropout(x, training=self.training)\n",
    "        x = self.conv2(x, edge_index)\n",
    "\n",
    "        return F.log_softmax(x, dim=1)"
   ]
  },
  {
   "cell_type": "code",
   "execution_count": 21,
   "id": "3a090165-4533-40b1-aa2b-f9b4858f7907",
   "metadata": {},
   "outputs": [],
   "source": [
    "# find the best device to run on\n",
    "if torch.backends.mps.is_available():\n",
    "    device = torch.device(\"mps\")\n",
    "else:\n",
    "    device = torch.device('cuda' if torch.cuda.is_available() else 'cpu')"
   ]
  },
  {
   "cell_type": "code",
   "execution_count": 22,
   "id": "d30da36e-b77c-465a-bc6c-b820656053b5",
   "metadata": {},
   "outputs": [],
   "source": [
    "# move the model and data to the device\n",
    "model = GCN().to(device)\n",
    "data = data.to(device)"
   ]
  },
  {
   "cell_type": "code",
   "execution_count": 23,
   "id": "16eb82f0-f796-48d6-97ee-24c5c98d9ef0",
   "metadata": {},
   "outputs": [],
   "source": [
    "optimizer = torch.optim.Adam(model.parameters(), lr=0.01, weight_decay=5e-4)\n",
    "model.train()\n",
    "for epoch in range(200):\n",
    "    optimizer.zero_grad()\n",
    "    out = model(data)\n",
    "    loss = F.nll_loss(out[data.train_mask], data.y[data.train_mask])\n",
    "    loss.backward()\n",
    "    optimizer.step()"
   ]
  },
  {
   "cell_type": "markdown",
   "id": "5e259629-0819-4f05-aa89-214bc347f46e",
   "metadata": {},
   "source": [
    "## Evaluation"
   ]
  },
  {
   "cell_type": "markdown",
   "id": "a14a0cf7-7103-4308-bcd8-f1a3918d847b",
   "metadata": {},
   "source": [
    "To evaluate the Graph Convolutional Network model we just trained, we use it to predict the labels of the nodes in the test set, and compare the results with the ground truth. We print the accuracy as the metrics."
   ]
  },
  {
   "cell_type": "code",
   "execution_count": 24,
   "id": "999aa5dc-e7cf-448d-9e67-49e9e70c9df8",
   "metadata": {},
   "outputs": [
    {
     "name": "stdout",
     "output_type": "stream",
     "text": [
      "Accuracy: 0.9492\n"
     ]
    }
   ],
   "source": [
    "model.eval()\n",
    "pred = model(data).argmax(dim=1)\n",
    "correct = (pred[data.test_mask] == data.y[data.test_mask]).sum()\n",
    "acc = int(correct) / int(data.test_mask.sum())\n",
    "print(f'Accuracy: {acc:.4f}')"
   ]
  },
  {
   "cell_type": "code",
   "execution_count": 25,
   "id": "e9912b51-5239-4e54-b7ac-2735fef44c62",
   "metadata": {},
   "outputs": [
    {
     "data": {
      "text/plain": [
       "tensor(0, device='mps:0')"
      ]
     },
     "execution_count": 25,
     "metadata": {},
     "output_type": "execute_result"
    }
   ],
   "source": [
    "torch.sum(pred[data.test_mask])"
   ]
  },
  {
   "cell_type": "code",
   "execution_count": 27,
   "id": "2c4baa47-b126-4d32-89c0-f060623121a1",
   "metadata": {},
   "outputs": [
    {
     "data": {
      "text/plain": [
       "tensor(36., device='mps:0')"
      ]
     },
     "execution_count": 27,
     "metadata": {},
     "output_type": "execute_result"
    }
   ],
   "source": [
    "torch.sum(data.y[data.test_mask])"
   ]
  }
 ],
 "metadata": {
  "kernelspec": {
   "display_name": "Python 3 (ipykernel)",
   "language": "python",
   "name": "python3"
  },
  "language_info": {
   "codemirror_mode": {
    "name": "ipython",
    "version": 3
   },
   "file_extension": ".py",
   "mimetype": "text/x-python",
   "name": "python",
   "nbconvert_exporter": "python",
   "pygments_lexer": "ipython3",
   "version": "3.9.6"
  }
 },
 "nbformat": 4,
 "nbformat_minor": 5
}
