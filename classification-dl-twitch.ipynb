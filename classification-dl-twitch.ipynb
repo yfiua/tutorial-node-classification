{
 "cells": [
  {
   "cell_type": "markdown",
   "id": "53460017-6da0-4d13-a084-173175f8bb75",
   "metadata": {},
   "source": [
    "## Load dataset"
   ]
  },
  {
   "cell_type": "markdown",
   "id": "72d4ada3-83a9-42bb-a9a5-d6edd041cb51",
   "metadata": {},
   "source": [
    "The Twitch dataset we will use is available as in the ```torch_geometric``` package."
   ]
  },
  {
   "cell_type": "code",
   "execution_count": 1,
   "id": "497c8bee-642c-4b3b-8918-0d8473d8802b",
   "metadata": {},
   "outputs": [
    {
     "name": "stderr",
     "output_type": "stream",
     "text": [
      "/Users/yfiua/Library/Python/3.9/lib/python/site-packages/torch_geometric/data/dataset.py:238: FutureWarning: You are using `torch.load` with `weights_only=False` (the current default value), which uses the default pickle module implicitly. It is possible to construct malicious pickle data which will execute arbitrary code during unpickling (See https://github.com/pytorch/pytorch/blob/main/SECURITY.md#untrusted-models for more details). In a future release, the default value for `weights_only` will be flipped to `True`. This limits the functions that could be executed during unpickling. Arbitrary objects will no longer be allowed to be loaded via this mode unless they are explicitly allowlisted by the user via `torch.serialization.add_safe_globals`. We recommend you start setting `weights_only=True` for any use case where you don't have full control of the loaded file. Please open an issue on GitHub for any issues related to this experimental feature.\n",
      "  if osp.exists(f) and torch.load(f) != _repr(self.pre_transform):\n",
      "/Users/yfiua/Library/Python/3.9/lib/python/site-packages/torch_geometric/data/dataset.py:246: FutureWarning: You are using `torch.load` with `weights_only=False` (the current default value), which uses the default pickle module implicitly. It is possible to construct malicious pickle data which will execute arbitrary code during unpickling (See https://github.com/pytorch/pytorch/blob/main/SECURITY.md#untrusted-models for more details). In a future release, the default value for `weights_only` will be flipped to `True`. This limits the functions that could be executed during unpickling. Arbitrary objects will no longer be allowed to be loaded via this mode unless they are explicitly allowlisted by the user via `torch.serialization.add_safe_globals`. We recommend you start setting `weights_only=True` for any use case where you don't have full control of the loaded file. Please open an issue on GitHub for any issues related to this experimental feature.\n",
      "  if osp.exists(f) and torch.load(f) != _repr(self.pre_filter):\n",
      "/Users/yfiua/Library/Python/3.9/lib/python/site-packages/torch_geometric/io/fs.py:215: FutureWarning: You are using `torch.load` with `weights_only=False` (the current default value), which uses the default pickle module implicitly. It is possible to construct malicious pickle data which will execute arbitrary code during unpickling (See https://github.com/pytorch/pytorch/blob/main/SECURITY.md#untrusted-models for more details). In a future release, the default value for `weights_only` will be flipped to `True`. This limits the functions that could be executed during unpickling. Arbitrary objects will no longer be allowed to be loaded via this mode unless they are explicitly allowlisted by the user via `torch.serialization.add_safe_globals`. We recommend you start setting `weights_only=True` for any use case where you don't have full control of the loaded file. Please open an issue on GitHub for any issues related to this experimental feature.\n",
      "  return torch.load(f, map_location)\n"
     ]
    }
   ],
   "source": [
    "import torch\n",
    "from torch_geometric.datasets import Twitch\n",
    "\n",
    "dataset = Twitch(root='./data/Twitch', name='DE')"
   ]
  },
  {
   "cell_type": "markdown",
   "id": "dd5add45-51ac-4c95-a9f3-05a3b8d3fc89",
   "metadata": {},
   "source": [
    "### Show statistics of the network"
   ]
  },
  {
   "cell_type": "code",
   "execution_count": 2,
   "id": "add43884-cddd-41a2-9c82-af6ea3f4d08e",
   "metadata": {},
   "outputs": [
    {
     "name": "stdout",
     "output_type": "stream",
     "text": [
      "Twitch (#graphs=1):\n",
      "+------------+----------+----------+\n",
      "|            |   #nodes |   #edges |\n",
      "|------------+----------+----------|\n",
      "| mean       |     9498 |   315774 |\n",
      "| std        |      nan |      nan |\n",
      "| min        |     9498 |   315774 |\n",
      "| quantile25 |     9498 |   315774 |\n",
      "| median     |     9498 |   315774 |\n",
      "| quantile75 |     9498 |   315774 |\n",
      "| max        |     9498 |   315774 |\n",
      "+------------+----------+----------+\n"
     ]
    },
    {
     "name": "stderr",
     "output_type": "stream",
     "text": [
      "/Users/yfiua/Library/Python/3.9/lib/python/site-packages/torch_geometric/data/summary.py:34: UserWarning: std(): degrees of freedom is <= 0. Correction should be strictly less than the reduction factor (input numel divided by output numel). (Triggered internally at /Users/runner/work/pytorch/pytorch/pytorch/aten/src/ATen/native/ReduceOps.cpp:1808.)\n",
      "  std=data.std().item(),\n"
     ]
    }
   ],
   "source": [
    "# number of nodes and edges\n",
    "dataset.print_summary()"
   ]
  },
  {
   "cell_type": "code",
   "execution_count": 3,
   "id": "e6228276-772e-47dd-8f1e-a8fee62f6bf8",
   "metadata": {},
   "outputs": [
    {
     "name": "stdout",
     "output_type": "stream",
     "text": [
      "2\n"
     ]
    }
   ],
   "source": [
    "# number of node classes\n",
    "print(dataset.num_classes)"
   ]
  },
  {
   "cell_type": "code",
   "execution_count": 4,
   "id": "67645481-bf9a-479f-b02c-45c8e5dd4867",
   "metadata": {},
   "outputs": [
    {
     "name": "stdout",
     "output_type": "stream",
     "text": [
      "128\n"
     ]
    }
   ],
   "source": [
    "# number of node features\n",
    "print(dataset.num_node_features)"
   ]
  },
  {
   "cell_type": "code",
   "execution_count": 5,
   "id": "430e34ff-20cb-4677-b37c-6f06e94c134c",
   "metadata": {},
   "outputs": [],
   "source": [
    "# number of nodes and edges\n",
    "N = len(dataset[0].x)"
   ]
  },
  {
   "cell_type": "markdown",
   "id": "55390326-5f11-4590-a2f6-dce9341313a8",
   "metadata": {},
   "source": [
    "### Split training and test data"
   ]
  },
  {
   "cell_type": "code",
   "execution_count": 6,
   "id": "02ebc600-c40a-4d28-9467-d07f6a3fd956",
   "metadata": {},
   "outputs": [],
   "source": [
    "# param: define the size of the training dataset\n",
    "train_size = .3\n",
    "\n",
    "# Generate random permutation of node indices\n",
    "perm = torch.randperm(N)\n",
    "\n",
    "# Select train and test nodes\n",
    "train_idx = perm[: int(train_size * N)]\n",
    "test_idx = perm[int(train_size * N) :]\n",
    "\n",
    "# Initialize train_mask and test_mask with False\n",
    "train_mask = torch.zeros(N, dtype=torch.bool)\n",
    "test_mask = torch.zeros(N, dtype=torch.bool)\n",
    "\n",
    "# Set the selected indices to True\n",
    "train_mask[train_idx] = True\n",
    "test_mask[test_idx] = True"
   ]
  },
  {
   "cell_type": "markdown",
   "id": "bc5b08a0-9347-4d1b-a4fb-f3a200e8837b",
   "metadata": {},
   "source": [
    "## Define and train a simply Graph Convolutional Network model"
   ]
  },
  {
   "cell_type": "code",
   "execution_count": 7,
   "id": "ed2cb74a-2da6-4012-91b2-c3eb7b2cb8d0",
   "metadata": {},
   "outputs": [],
   "source": [
    "import torch.nn.functional as F\n",
    "from torch_geometric.nn import GCNConv\n",
    "\n",
    "class GCN(torch.nn.Module):\n",
    "    def __init__(self):\n",
    "        super().__init__()\n",
    "        self.conv1 = GCNConv(dataset.num_node_features, 32)\n",
    "        self.conv2 = GCNConv(32, dataset.num_classes)\n",
    "\n",
    "    def forward(self, data):\n",
    "        x, edge_index = data.x, data.edge_index\n",
    "\n",
    "        x = self.conv1(x, edge_index)\n",
    "        x = F.relu(x)\n",
    "        x = F.dropout(x, training=self.training)\n",
    "        x = self.conv2(x, edge_index)\n",
    "\n",
    "        return F.log_softmax(x, dim=1)"
   ]
  },
  {
   "cell_type": "code",
   "execution_count": 8,
   "id": "3a090165-4533-40b1-aa2b-f9b4858f7907",
   "metadata": {},
   "outputs": [],
   "source": [
    "# find the best device to run on\n",
    "if torch.backends.mps.is_available():\n",
    "    device = torch.device(\"mps\")\n",
    "else:\n",
    "    device = torch.device('cuda' if torch.cuda.is_available() else 'cpu')"
   ]
  },
  {
   "cell_type": "code",
   "execution_count": 9,
   "id": "d30da36e-b77c-465a-bc6c-b820656053b5",
   "metadata": {},
   "outputs": [],
   "source": [
    "# move the model and data to the device\n",
    "model = GCN().to(device)\n",
    "data = dataset[0].to(device)\n",
    "train_mask = train_mask.to(device)\n",
    "test_mask = test_mask.to(device)"
   ]
  },
  {
   "cell_type": "code",
   "execution_count": 10,
   "id": "16eb82f0-f796-48d6-97ee-24c5c98d9ef0",
   "metadata": {},
   "outputs": [
    {
     "name": "stdout",
     "output_type": "stream",
     "text": [
      "Epoch: 000, Loss: 0.6719\n",
      "Epoch: 010, Loss: 0.5876\n",
      "Epoch: 020, Loss: 0.5621\n",
      "Epoch: 030, Loss: 0.5486\n",
      "Epoch: 040, Loss: 0.5412\n",
      "Epoch: 050, Loss: 0.5266\n",
      "Epoch: 060, Loss: 0.5193\n",
      "Epoch: 070, Loss: 0.5083\n",
      "Epoch: 080, Loss: 0.5055\n",
      "Epoch: 090, Loss: 0.5005\n",
      "Epoch: 100, Loss: 0.4817\n",
      "Epoch: 110, Loss: 0.4821\n",
      "Epoch: 120, Loss: 0.4803\n",
      "Epoch: 130, Loss: 0.4735\n",
      "Epoch: 140, Loss: 0.4702\n",
      "Epoch: 150, Loss: 0.4660\n",
      "Epoch: 160, Loss: 0.4642\n",
      "Epoch: 170, Loss: 0.4576\n",
      "Epoch: 180, Loss: 0.4550\n",
      "Epoch: 190, Loss: 0.4579\n"
     ]
    }
   ],
   "source": [
    "optimizer = torch.optim.Adam(model.parameters(), lr=0.01, weight_decay=5e-4)\n",
    "model.train()\n",
    "for epoch in range(200):\n",
    "    optimizer.zero_grad()\n",
    "    out = model(data)\n",
    "    loss = F.nll_loss(out[train_mask], data.y[train_mask])\n",
    "\n",
    "    if epoch % 10 == 0:\n",
    "        print(f'Epoch: {epoch:03d}, Loss: {loss:.4f}')\n",
    "        \n",
    "    loss.backward()\n",
    "    optimizer.step()"
   ]
  },
  {
   "cell_type": "markdown",
   "id": "5e259629-0819-4f05-aa89-214bc347f46e",
   "metadata": {},
   "source": [
    "## Evaluation"
   ]
  },
  {
   "cell_type": "markdown",
   "id": "a14a0cf7-7103-4308-bcd8-f1a3918d847b",
   "metadata": {},
   "source": [
    "To evaluate the Graph Convolutional Network model we just trained, we use it to predict the labels of the nodes in the test set, and compare the results with the ground truth. We print the accuracy as the metrics."
   ]
  },
  {
   "cell_type": "code",
   "execution_count": 11,
   "id": "999aa5dc-e7cf-448d-9e67-49e9e70c9df8",
   "metadata": {},
   "outputs": [
    {
     "name": "stdout",
     "output_type": "stream",
     "text": [
      "Accuracy: 0.6760\n"
     ]
    }
   ],
   "source": [
    "model.eval()\n",
    "pred = model(data).argmax(dim=1)\n",
    "correct = (pred[test_mask] == data.y[test_mask]).sum()\n",
    "acc = int(correct) / int(test_mask.sum())\n",
    "print(f'Accuracy: {acc:.4f}')"
   ]
  },
  {
   "cell_type": "code",
   "execution_count": null,
   "id": "a39049c8-89fa-4915-b910-b6d50d0f187a",
   "metadata": {},
   "outputs": [],
   "source": []
  }
 ],
 "metadata": {
  "kernelspec": {
   "display_name": "Python 3 (ipykernel)",
   "language": "python",
   "name": "python3"
  },
  "language_info": {
   "codemirror_mode": {
    "name": "ipython",
    "version": 3
   },
   "file_extension": ".py",
   "mimetype": "text/x-python",
   "name": "python",
   "nbconvert_exporter": "python",
   "pygments_lexer": "ipython3",
   "version": "3.9.6"
  }
 },
 "nbformat": 4,
 "nbformat_minor": 5
}
